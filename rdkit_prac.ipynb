{
 "cells": [
  {
   "cell_type": "code",
   "execution_count": 2,
   "id": "f2d0844d-a543-4814-a2f8-c59aadd6915d",
   "metadata": {},
   "outputs": [],
   "source": [
    "from rdkit import Chem\n",
    "from rdkit.Chem import Draw"
   ]
  },
  {
   "cell_type": "code",
   "execution_count": 24,
   "id": "4365f00a-b906-487f-aeca-c809d9027c58",
   "metadata": {},
   "outputs": [],
   "source": [
    "n= Chem.MolFromSmiles('Cc1ccccc1')\n",
    "m = Chem.MolFromMolFile(r\"C:\\Users\\capta\\DrugHIVE\\output\\generate_example\\prior\\5d3h\\mols_gen.sdf\")\n",
    "\n"
   ]
  },
  {
   "cell_type": "code",
   "execution_count": 25,
   "id": "1931cc8b-e5da-4aa2-a848-e1a42a6c057b",
   "metadata": {},
   "outputs": [
    {
     "name": "stdout",
     "output_type": "stream",
     "text": [
      "<PIL.PngImagePlugin.PngImageFile image mode=RGB size=300x300 at 0x172A4695C70>\n"
     ]
    }
   ],
   "source": [
    "img  = Draw.MolToImage(m)\n",
    "print(img)"
   ]
  },
  {
   "cell_type": "code",
   "execution_count": 26,
   "id": "49f713ad-3dee-474a-bfa0-555d24fe2e0a",
   "metadata": {},
   "outputs": [
    {
     "data": {
      "text/plain": [
       "10"
      ]
     },
     "execution_count": 26,
     "metadata": {},
     "output_type": "execute_result"
    }
   ],
   "source": [
    "suppl = Chem.SDMolSupplier(r\"C:\\Users\\capta\\DrugHIVE\\output\\generate_example\\prior\\5d3h\\mols_gen.sdf\")\n",
    "mols = [x for x in suppl]\n",
    "len(mols)"
   ]
  },
  {
   "cell_type": "code",
   "execution_count": 27,
   "id": "a5d87df4-bf81-4c81-ad4c-78702d33cc7c",
   "metadata": {},
   "outputs": [
    {
     "ename": "NameError",
     "evalue": "name 'sdSupl' is not defined",
     "output_type": "error",
     "traceback": [
      "\u001b[1;31m---------------------------------------------------------------------------\u001b[0m",
      "\u001b[1;31mNameError\u001b[0m                                 Traceback (most recent call last)",
      "Cell \u001b[1;32mIn[27], line 3\u001b[0m\n\u001b[0;32m      1\u001b[0m i \u001b[38;5;241m=\u001b[39m\u001b[38;5;241m0\u001b[39m\n\u001b[0;32m      2\u001b[0m \u001b[38;5;28;01mwith\u001b[39;00m Chem\u001b[38;5;241m.\u001b[39mMultithreadedSDMolSupplier(\u001b[38;5;124mr\u001b[39m\u001b[38;5;124m\"\u001b[39m\u001b[38;5;124mC:\u001b[39m\u001b[38;5;124m\\\u001b[39m\u001b[38;5;124mUsers\u001b[39m\u001b[38;5;124m\\\u001b[39m\u001b[38;5;124mcapta\u001b[39m\u001b[38;5;124m\\\u001b[39m\u001b[38;5;124mDrugHIVE\u001b[39m\u001b[38;5;124m\\\u001b[39m\u001b[38;5;124moutput\u001b[39m\u001b[38;5;124m\\\u001b[39m\u001b[38;5;124mgenerate_example\u001b[39m\u001b[38;5;124m\\\u001b[39m\u001b[38;5;124mprior\u001b[39m\u001b[38;5;124m\\\u001b[39m\u001b[38;5;124m5d3h\u001b[39m\u001b[38;5;124m\\\u001b[39m\u001b[38;5;124mmols_gen.sdf\u001b[39m\u001b[38;5;124m\"\u001b[39m):\n\u001b[1;32m----> 3\u001b[0m     \u001b[38;5;28;01mfor\u001b[39;00m mol \u001b[38;5;129;01min\u001b[39;00m \u001b[43msdSupl\u001b[49m:\n\u001b[0;32m      4\u001b[0m         \u001b[38;5;28;01mif\u001b[39;00m mol \u001b[38;5;129;01mis\u001b[39;00m \u001b[38;5;129;01mnot\u001b[39;00m \u001b[38;5;28;01mNone\u001b[39;00m:\n\u001b[0;32m      5\u001b[0m             i\u001b[38;5;241m+\u001b[39m\u001b[38;5;241m=\u001b[39m\u001b[38;5;241m1\u001b[39m\n",
      "\u001b[1;31mNameError\u001b[0m: name 'sdSupl' is not defined"
     ]
    }
   ],
   "source": [
    "i =0\n",
    "with Chem.MultithreadedSDMolSupplier(r\"C:\\Users\\capta\\DrugHIVE\\output\\generate_example\\prior\\5d3h\\mols_gen.sdf\"):\n",
    "    for mol in sdSupl:\n",
    "        if mol is not None:\n",
    "            i+=1\n",
    "            \n",
    "print(i)\n",
    "\n"
   ]
  },
  {
   "cell_type": "code",
   "execution_count": 28,
   "id": "c90ac02d-4627-4c44-9c32-849924265ced",
   "metadata": {},
   "outputs": [
    {
     "data": {
      "text/plain": [
       "'c1ccncc1'"
      ]
     },
     "execution_count": 28,
     "metadata": {},
     "output_type": "execute_result"
    }
   ],
   "source": [
    "Chem.MolToSmiles(Chem.MolFromSmiles('C1=CC=CN=C1'))"
   ]
  },
  {
   "cell_type": "code",
   "execution_count": 8,
   "id": "3f6277f1-6d7a-460c-bc65-c98bfd329f76",
   "metadata": {},
   "outputs": [],
   "source": [
    "Chem.Kekulize(m)"
   ]
  },
  {
   "cell_type": "code",
   "execution_count": 10,
   "id": "7278fd3c-5560-4f28-b580-00f4056d4b5a",
   "metadata": {},
   "outputs": [
    {
     "name": "stdout",
     "output_type": "stream",
     "text": [
      "\n",
      "     RDKit          2D\n",
      "\n",
      "  4  4  0  0  0  0  0  0  0  0999 V2000\n",
      "    1.0607    0.0000    0.0000 C   0  0  0  0  0  0  0  0  0  0  0  0\n",
      "   -0.0000   -1.0607    0.0000 C   0  0  0  0  0  0  0  0  0  0  0  0\n",
      "   -1.0607    0.0000    0.0000 C   0  0  0  0  0  0  0  0  0  0  0  0\n",
      "    0.0000    1.0607    0.0000 C   0  0  0  0  0  0  0  0  0  0  0  0\n",
      "  1  2  1  0\n",
      "  2  3  1  0\n",
      "  3  4  1  0\n",
      "  4  1  1  0\n",
      "M  END\n",
      "\n"
     ]
    }
   ],
   "source": [
    "m2 = Chem.MolFromSmiles('C1CCC1')\n",
    "print(Chem.MolToMolBlock(m2))"
   ]
  },
  {
   "cell_type": "code",
   "execution_count": 2,
   "id": "c917c1ce-2043-462b-85cd-9edb0f8c39ed",
   "metadata": {},
   "outputs": [],
   "source": [
    "from rdkit.Chem import AllChem\n"
   ]
  },
  {
   "cell_type": "code",
   "execution_count": 14,
   "id": "4861704f-8cab-4236-9021-1825267b3833",
   "metadata": {},
   "outputs": [
    {
     "data": {
      "text/plain": [
       "0"
      ]
     },
     "execution_count": 14,
     "metadata": {},
     "output_type": "execute_result"
    }
   ],
   "source": [
    "AllChem.Compute2DCoords(m)"
   ]
  },
  {
   "cell_type": "code",
   "execution_count": 15,
   "id": "705a71f3-085c-43e4-89cb-fdc74465bfe7",
   "metadata": {},
   "outputs": [
    {
     "name": "stdout",
     "output_type": "stream",
     "text": [
      "My first Ligand\n",
      "     RDKit          2D\n",
      "\n",
      " 29 30  0  0  0  0  0  0  0  0999 V2000\n",
      "    1.6025   -1.7349    0.0000 C   0  0  0  0  0  0  0  0  0  0  0  0\n",
      "    3.4305    0.2153    0.0000 C   0  0  0  0  0  0  0  0  0  0  0  0\n",
      "    5.7717    1.5053    0.0000 C   0  0  0  0  0  0  0  0  0  0  0  0\n",
      "   -5.8056    1.1146    0.0000 N   0  0  0  0  0  0  0  0  0  0  0  0\n",
      "   -3.7766   -2.2961    0.0000 C   0  0  0  0  0  0  0  0  0  0  0  0\n",
      "   -0.9549   -1.2772    0.0000 C   0  0  0  0  0  0  0  0  0  0  0  0\n",
      "   -4.6590    0.1475    0.0000 S   0  0  0  0  0  0  0  0  0  0  0  0\n",
      "   -6.6879    3.5583    0.0000 C   0  0  0  0  0  0  0  0  0  0  0  0\n",
      "    3.0134   -1.2255    0.0000 C   0  0  0  0  0  0  0  0  0  0  0  0\n",
      "    7.2678    1.3968    0.0000 C   0  0  0  0  0  0  0  0  0  0  0  0\n",
      "   -0.0726   -3.7209    0.0000 O   0  0  0  0  0  0  0  0  0  0  0  0\n",
      "    5.4392   -1.1470    0.0000 C   0  0  0  0  0  0  0  0  0  0  0  0\n",
      "   -7.2164    0.6052    0.0000 C   0  0  0  0  0  0  0  0  0  0  0  0\n",
      "   -3.6919    1.2941    0.0000 O   0  0  0  0  0  0  0  0  0  0  0  0\n",
      "   -1.2192   -2.7538    0.0000 C   0  0  0  0  0  0  0  0  0  0  0  0\n",
      "   -3.5124   -0.8196    0.0000 C   0  0  0  0  0  0  0  0  0  0  0  0\n",
      "    8.1097    2.6382    0.0000 O   0  0  0  0  0  0  0  0  0  0  0  0\n",
      "    6.8800   -1.5641    0.0000 C   0  0  0  0  0  0  0  0  0  0  0  0\n",
      "    5.1176    2.8551    0.0000 O   0  0  0  0  0  0  0  0  0  0  0  0\n",
      "    4.9297    0.2639    0.0000 C   0  0  0  0  0  0  0  0  0  0  0  0\n",
      "   -5.6261   -0.9991    0.0000 O   0  0  0  0  0  0  0  0  0  0  0  0\n",
      "    4.2548   -2.0675    0.0000 N   0  0  0  0  0  0  0  0  0  0  0  0\n",
      "    3.0755    2.7890    0.0000 C   0  0  0  0  0  0  0  0  0  0  0  0\n",
      "   -8.3630    1.5723    0.0000 C   0  0  0  0  0  0  0  0  0  0  0  0\n",
      "    0.4559   -0.7678    0.0000 N   0  0  0  0  0  0  0  0  0  0  0  0\n",
      "   -2.6300   -3.2632    0.0000 C   0  0  0  0  0  0  0  0  0  0  0  0\n",
      "   -2.1015   -0.3101    0.0000 C   0  0  0  0  0  0  0  0  0  0  0  0\n",
      "   -5.5413    2.5912    0.0000 C   0  0  0  0  0  0  0  0  0  0  0  0\n",
      "    2.5100    1.3997    0.0000 C   0  0  0  0  0  0  0  0  0  0  0  0\n",
      "  1  9  1  0\n",
      "  1 25  2  3\n",
      "  2  9  1  0\n",
      "  2 20  1  0\n",
      "  2 29  1  0\n",
      "  3 10  1  0\n",
      "  3 19  2  0\n",
      "  3 20  1  0\n",
      "  4  7  1  0\n",
      "  4 13  1  0\n",
      "  4 28  1  0\n",
      "  5 16  2  0\n",
      "  5 26  1  0\n",
      "  6 15  1  0\n",
      "  6 25  1  0\n",
      "  6 27  2  0\n",
      "  7 14  2  0\n",
      "  7 16  1  0\n",
      "  7 21  2  0\n",
      "  8 28  1  0\n",
      "  9 22  1  6\n",
      " 10 17  1  0\n",
      " 11 15  1  0\n",
      " 12 18  1  0\n",
      " 12 20  1  0\n",
      " 12 22  1  0\n",
      " 13 24  1  0\n",
      " 15 26  2  0\n",
      " 16 27  1  0\n",
      " 23 29  1  0\n",
      "M  END\n",
      "\n"
     ]
    }
   ],
   "source": [
    "m.SetProp('_Name', 'My first Ligand')\n",
    "print(Chem.MolToMolBlock(m))"
   ]
  },
  {
   "cell_type": "code",
   "execution_count": 8,
   "id": "6fd18769-4b82-4853-a30e-8321c0cbd2cf",
   "metadata": {},
   "outputs": [
    {
     "ename": "NameError",
     "evalue": "name 'm2' is not defined",
     "output_type": "error",
     "traceback": [
      "\u001b[1;31m---------------------------------------------------------------------------\u001b[0m",
      "\u001b[1;31mNameError\u001b[0m                                 Traceback (most recent call last)",
      "Cell \u001b[1;32mIn[8], line 2\u001b[0m\n\u001b[0;32m      1\u001b[0m \u001b[38;5;28;01mfrom\u001b[39;00m \u001b[38;5;21;01mrdkit\u001b[39;00m\u001b[38;5;21;01m.\u001b[39;00m\u001b[38;5;21;01mChem\u001b[39;00m \u001b[38;5;28;01mimport\u001b[39;00m AllChem\n\u001b[1;32m----> 2\u001b[0m AllChem\u001b[38;5;241m.\u001b[39mCompute2DCoords(\u001b[43mm2\u001b[49m)\n\u001b[0;32m      3\u001b[0m \u001b[38;5;28mprint\u001b[39m(Chem\u001b[38;5;241m.\u001b[39mMolToMolBlock(m2))\n",
      "\u001b[1;31mNameError\u001b[0m: name 'm2' is not defined"
     ]
    }
   ],
   "source": [
    "from rdkit.Chem import AllChem\n",
    "AllChem.Compute2DCoords(m2)\n",
    "print(Chem.MolToMolBlock(m2))"
   ]
  },
  {
   "cell_type": "code",
   "execution_count": 19,
   "id": "4ae98018-0b87-492c-b37c-fd63f0fac73a",
   "metadata": {},
   "outputs": [
    {
     "name": "stdout",
     "output_type": "stream",
     "text": [
      "My first Ligand\n",
      "     RDKit          3D\n",
      "\n",
      " 60 61  0  0  0  0  0  0  0  0999 V2000\n",
      "   -1.1482   -0.6554   -0.3552 C   0  0  0  0  0  0  0  0  0  0  0  0\n",
      "   -3.1411    0.7378   -0.7195 C   0  0  0  0  0  0  0  0  0  0  0  0\n",
      "   -5.3829    0.6917    0.4100 C   0  0  0  0  0  0  0  0  0  0  0  0\n",
      "    5.5610   -0.4336    0.4798 N   0  0  0  0  0  0  0  0  0  0  0  0\n",
      "    2.6926   -0.6028    2.7405 C   0  0  0  0  0  0  0  0  0  0  0  0\n",
      "    0.6550   -0.0130    1.0166 C   0  0  0  0  0  0  0  0  0  0  0  0\n",
      "    4.6329    0.7020    1.3486 S   0  0  0  0  0  6  0  0  0  0  0  0\n",
      "    7.7992   -0.4346    1.4174 C   0  0  0  0  0  0  0  0  0  0  0  0\n",
      "   -2.2782   -0.3773   -1.2839 C   0  0  2  0  0  0  0  0  0  0  0  0\n",
      "   -6.4661   -0.0265    1.1187 C   0  0  0  0  0  0  0  0  0  0  0  0\n",
      "   -0.9286   -1.2231    2.3938 O   0  0  0  0  0  0  0  0  0  0  0  0\n",
      "   -4.4236   -1.2188   -0.8874 C   0  0  0  0  0  0  0  0  0  0  0  0\n",
      "    4.9676   -0.6399   -0.8259 C   0  0  0  0  0  0  0  0  0  0  0  0\n",
      "    4.6372    2.0583    0.6601 O   0  0  0  0  0  0  0  0  0  0  0  0\n",
      "    0.3701   -0.7658    2.1358 C   0  0  0  0  0  0  0  0  0  0  0  0\n",
      "    2.9942    0.1561    1.6175 C   0  0  0  0  0  0  0  0  0  0  0  0\n",
      "   -7.5304    0.8147    1.4379 O   0  0  0  0  0  0  0  0  0  0  0  0\n",
      "   -5.5079   -1.0321   -1.8905 C   0  0  0  0  0  0  0  0  0  0  0  0\n",
      "   -5.5272    1.8713    0.1939 O   0  0  0  0  0  0  0  0  0  0  0  0\n",
      "   -4.1909   -0.0196   -0.0044 C   0  0  0  0  0  0  0  0  0  0  0  0\n",
      "    5.3029    0.9310    2.6902 O   0  0  0  0  0  0  0  0  0  0  0  0\n",
      "   -3.1297   -1.5090   -1.4690 N   0  0  0  0  0  0  0  0  0  0  0  0\n",
      "   -2.2995    2.1047   -2.5384 C   0  0  0  0  0  0  0  0  0  0  0  0\n",
      "    5.5021    0.3115   -1.8710 C   0  0  0  0  0  0  0  0  0  0  0  0\n",
      "   -0.4171    0.2837    0.1321 N   0  0  0  0  0  0  0  0  0  0  0  0\n",
      "    1.4126   -1.0507    2.9903 C   0  0  0  0  0  0  0  0  0  0  0  0\n",
      "    1.9507    0.4406    0.7635 C   0  0  0  0  0  0  0  0  0  0  0  0\n",
      "    6.9209    0.0208    0.2726 C   0  0  0  0  0  0  0  0  0  0  0  0\n",
      "   -3.5802    1.5711   -1.8775 C   0  0  0  0  0  0  0  0  0  0  0  0\n",
      "   -0.9221   -1.6693   -0.0721 H   0  0  0  0  0  0  0  0  0  0  0  0\n",
      "   -2.5322    1.3153   -0.0072 H   0  0  0  0  0  0  0  0  0  0  0  0\n",
      "    3.5299   -0.8248    3.4160 H   0  0  0  0  0  0  0  0  0  0  0  0\n",
      "    7.1236   -0.6786    2.2694 H   0  0  0  0  0  0  0  0  0  0  0  0\n",
      "    8.3007   -1.3905    1.1072 H   0  0  0  0  0  0  0  0  0  0  0  0\n",
      "    8.5160    0.3299    1.7324 H   0  0  0  0  0  0  0  0  0  0  0  0\n",
      "   -1.8353   -0.1036   -2.2629 H   0  0  0  0  0  0  0  0  0  0  0  0\n",
      "   -6.0277   -0.3496    2.1077 H   0  0  0  0  0  0  0  0  0  0  0  0\n",
      "   -6.7875   -0.9514    0.6176 H   0  0  0  0  0  0  0  0  0  0  0  0\n",
      "   -1.5683   -0.7674    3.0172 H   0  0  0  0  0  0  0  0  0  0  0  0\n",
      "   -4.6651   -2.0956   -0.2363 H   0  0  0  0  0  0  0  0  0  0  0  0\n",
      "    3.8909   -0.4686   -0.7459 H   0  0  0  0  0  0  0  0  0  0  0  0\n",
      "    5.1620   -1.7064   -1.1491 H   0  0  0  0  0  0  0  0  0  0  0  0\n",
      "   -8.0617    0.3226    2.1392 H   0  0  0  0  0  0  0  0  0  0  0  0\n",
      "   -6.2821   -1.8128   -1.7497 H   0  0  0  0  0  0  0  0  0  0  0  0\n",
      "   -5.1630   -1.1423   -2.9421 H   0  0  0  0  0  0  0  0  0  0  0  0\n",
      "   -6.0175   -0.0612   -1.7149 H   0  0  0  0  0  0  0  0  0  0  0  0\n",
      "   -3.7089   -0.4318    0.9335 H   0  0  0  0  0  0  0  0  0  0  0  0\n",
      "   -2.6676   -2.3405   -1.0639 H   0  0  0  0  0  0  0  0  0  0  0  0\n",
      "   -1.4363    2.0335   -1.8453 H   0  0  0  0  0  0  0  0  0  0  0  0\n",
      "   -2.4260    3.2045   -2.7494 H   0  0  0  0  0  0  0  0  0  0  0  0\n",
      "   -2.0405    1.5427   -3.4464 H   0  0  0  0  0  0  0  0  0  0  0  0\n",
      "    6.2793   -0.1811   -2.5131 H   0  0  0  0  0  0  0  0  0  0  0  0\n",
      "    5.9608    1.2187   -1.4580 H   0  0  0  0  0  0  0  0  0  0  0  0\n",
      "    4.6875    0.6619   -2.5565 H   0  0  0  0  0  0  0  0  0  0  0  0\n",
      "    1.2153   -1.6431    3.8809 H   0  0  0  0  0  0  0  0  0  0  0  0\n",
      "    2.1345    1.0275   -0.1202 H   0  0  0  0  0  0  0  0  0  0  0  0\n",
      "    7.3165   -0.2708   -0.7175 H   0  0  0  0  0  0  0  0  0  0  0  0\n",
      "    6.8853    1.1453    0.3553 H   0  0  0  0  0  0  0  0  0  0  0  0\n",
      "   -4.2287    2.4152   -1.6507 H   0  0  0  0  0  0  0  0  0  0  0  0\n",
      "   -4.0795    0.9792   -2.6715 H   0  0  0  0  0  0  0  0  0  0  0  0\n",
      "  1  9  1  0\n",
      "  1 25  2  3\n",
      "  2  9  1  0\n",
      "  2 20  1  0\n",
      "  2 29  1  0\n",
      "  3 10  1  0\n",
      "  3 19  2  0\n",
      "  3 20  1  0\n",
      "  4  7  1  0\n",
      "  4 13  1  0\n",
      "  4 28  1  0\n",
      "  5 16  2  0\n",
      "  5 26  1  0\n",
      "  6 15  1  0\n",
      "  6 25  1  0\n",
      "  6 27  2  0\n",
      "  7 14  2  0\n",
      "  7 16  1  0\n",
      "  7 21  2  0\n",
      "  8 28  1  0\n",
      "  9 22  1  0\n",
      " 10 17  1  0\n",
      " 11 15  1  0\n",
      " 12 18  1  0\n",
      " 12 20  1  0\n",
      " 12 22  1  0\n",
      " 13 24  1  0\n",
      " 15 26  2  0\n",
      " 16 27  1  0\n",
      " 23 29  1  0\n",
      "  1 30  1  0\n",
      "  2 31  1  0\n",
      "  5 32  1  0\n",
      "  8 33  1  0\n",
      "  8 34  1  0\n",
      "  8 35  1  0\n",
      "  9 36  1  6\n",
      " 10 37  1  0\n",
      " 10 38  1  0\n",
      " 11 39  1  0\n",
      " 12 40  1  0\n",
      " 13 41  1  0\n",
      " 13 42  1  0\n",
      " 17 43  1  0\n",
      " 18 44  1  0\n",
      " 18 45  1  0\n",
      " 18 46  1  0\n",
      " 20 47  1  0\n",
      " 22 48  1  0\n",
      " 23 49  1  0\n",
      " 23 50  1  0\n",
      " 23 51  1  0\n",
      " 24 52  1  0\n",
      " 24 53  1  0\n",
      " 24 54  1  0\n",
      " 26 55  1  0\n",
      " 27 56  1  0\n",
      " 28 57  1  0\n",
      " 28 58  1  0\n",
      " 29 59  1  0\n",
      " 29 60  1  0\n",
      "M  END\n",
      "\n"
     ]
    }
   ],
   "source": [
    "m3 = Chem.AddHs(m)\n",
    "params = AllChem.ETKDGv3()\n",
    "params.randomSeed = 0xf00d\n",
    "AllChem.EmbedMolecule(m3,params)\n",
    "print(Chem.MolToMolBlock(m3))"
   ]
  },
  {
   "cell_type": "code",
   "execution_count": 20,
   "id": "420c497f-3885-4a20-a0b9-291f78d0a8a8",
   "metadata": {},
   "outputs": [
    {
     "name": "stdout",
     "output_type": "stream",
     "text": [
      "My first Ligand\n",
      "     RDKit          3D\n",
      "\n",
      " 29 30  0  0  0  0  0  0  0  0999 V2000\n",
      "   -1.1482   -0.6554   -0.3552 C   0  0  0  0  0  0  0  0  0  0  0  0\n",
      "   -3.1411    0.7378   -0.7195 C   0  0  0  0  0  0  0  0  0  0  0  0\n",
      "   -5.3829    0.6917    0.4100 C   0  0  0  0  0  0  0  0  0  0  0  0\n",
      "    5.5610   -0.4336    0.4798 N   0  0  0  0  0  0  0  0  0  0  0  0\n",
      "    2.6926   -0.6028    2.7405 C   0  0  0  0  0  0  0  0  0  0  0  0\n",
      "    0.6550   -0.0130    1.0166 C   0  0  0  0  0  0  0  0  0  0  0  0\n",
      "    4.6329    0.7020    1.3486 S   0  0  0  0  0  6  0  0  0  0  0  0\n",
      "    7.7992   -0.4346    1.4174 C   0  0  0  0  0  0  0  0  0  0  0  0\n",
      "   -2.2782   -0.3773   -1.2839 C   0  0  2  0  0  0  0  0  0  0  0  0\n",
      "   -6.4661   -0.0265    1.1187 C   0  0  0  0  0  0  0  0  0  0  0  0\n",
      "   -0.9286   -1.2231    2.3938 O   0  0  0  0  0  0  0  0  0  0  0  0\n",
      "   -4.4236   -1.2188   -0.8874 C   0  0  0  0  0  0  0  0  0  0  0  0\n",
      "    4.9676   -0.6399   -0.8259 C   0  0  0  0  0  0  0  0  0  0  0  0\n",
      "    4.6372    2.0583    0.6601 O   0  0  0  0  0  0  0  0  0  0  0  0\n",
      "    0.3701   -0.7658    2.1358 C   0  0  0  0  0  0  0  0  0  0  0  0\n",
      "    2.9942    0.1561    1.6175 C   0  0  0  0  0  0  0  0  0  0  0  0\n",
      "   -7.5304    0.8147    1.4379 O   0  0  0  0  0  0  0  0  0  0  0  0\n",
      "   -5.5079   -1.0321   -1.8905 C   0  0  0  0  0  0  0  0  0  0  0  0\n",
      "   -5.5272    1.8713    0.1939 O   0  0  0  0  0  0  0  0  0  0  0  0\n",
      "   -4.1909   -0.0196   -0.0044 C   0  0  0  0  0  0  0  0  0  0  0  0\n",
      "    5.3029    0.9310    2.6902 O   0  0  0  0  0  0  0  0  0  0  0  0\n",
      "   -3.1297   -1.5090   -1.4690 N   0  0  0  0  0  0  0  0  0  0  0  0\n",
      "   -2.2995    2.1047   -2.5384 C   0  0  0  0  0  0  0  0  0  0  0  0\n",
      "    5.5021    0.3115   -1.8710 C   0  0  0  0  0  0  0  0  0  0  0  0\n",
      "   -0.4171    0.2837    0.1321 N   0  0  0  0  0  0  0  0  0  0  0  0\n",
      "    1.4126   -1.0507    2.9903 C   0  0  0  0  0  0  0  0  0  0  0  0\n",
      "    1.9507    0.4406    0.7635 C   0  0  0  0  0  0  0  0  0  0  0  0\n",
      "    6.9209    0.0208    0.2726 C   0  0  0  0  0  0  0  0  0  0  0  0\n",
      "   -3.5802    1.5711   -1.8775 C   0  0  0  0  0  0  0  0  0  0  0  0\n",
      "  1  9  1  0\n",
      "  1 25  2  3\n",
      "  2  9  1  0\n",
      "  2 20  1  0\n",
      "  2 29  1  0\n",
      "  3 10  1  0\n",
      "  3 19  2  0\n",
      "  3 20  1  0\n",
      "  4  7  1  0\n",
      "  4 13  1  0\n",
      "  4 28  1  0\n",
      "  5 16  2  0\n",
      "  5 26  1  0\n",
      "  6 15  1  0\n",
      "  6 25  1  0\n",
      "  6 27  2  0\n",
      "  7 14  2  0\n",
      "  7 16  1  0\n",
      "  7 21  2  0\n",
      "  8 28  1  0\n",
      "  9 22  1  1\n",
      " 10 17  1  0\n",
      " 11 15  1  0\n",
      " 12 18  1  0\n",
      " 12 20  1  0\n",
      " 12 22  1  0\n",
      " 13 24  1  0\n",
      " 15 26  2  0\n",
      " 16 27  1  0\n",
      " 23 29  1  0\n",
      "M  END\n",
      "\n"
     ]
    }
   ],
   "source": [
    "m3 = Chem.RemoveHs(m3)\n",
    "print(Chem.MolToMolBlock(m3))"
   ]
  },
  {
   "cell_type": "code",
   "execution_count": 29,
   "id": "379bb132-9b9b-44aa-a241-49fc2441cb26",
   "metadata": {},
   "outputs": [],
   "source": [
    "with Chem.SDWriter(r'C:\\Users\\capta\\DrugHIVE\\output\\generate_example\\RdKit\\output.sdf') as w:\n",
    "    for m in mols:\n",
    "        w.write(m)"
   ]
  },
  {
   "cell_type": "code",
   "execution_count": 31,
   "id": "239e1f90-9199-4ad7-9cf1-4a6a76dd1c99",
   "metadata": {},
   "outputs": [
    {
     "name": "stdout",
     "output_type": "stream",
     "text": [
      "6\n",
      "8\n",
      "6\n",
      "SINGLE\n"
     ]
    }
   ],
   "source": [
    "m =Chem.MolFromSmiles('C1OC1')\n",
    "for atom in m.GetAtoms():\n",
    "    print(atom.GetAtomicNum())\n",
    "\n",
    "print(m.GetBonds()[0].GetBondType())"
   ]
  },
  {
   "cell_type": "code",
   "execution_count": 32,
   "id": "3350c5e2-6833-4a26-8315-4dcd07d44a12",
   "metadata": {},
   "outputs": [
    {
     "data": {
      "text/plain": [
       "'C'"
      ]
     },
     "execution_count": 32,
     "metadata": {},
     "output_type": "execute_result"
    }
   ],
   "source": [
    "m.GetAtomWithIdx(0).GetSymbol()"
   ]
  },
  {
   "cell_type": "code",
   "execution_count": 33,
   "id": "a9ca45ac-3cd5-40d0-b20a-f3b10b87cdf4",
   "metadata": {},
   "outputs": [
    {
     "data": {
      "text/plain": [
       "2"
      ]
     },
     "execution_count": 33,
     "metadata": {},
     "output_type": "execute_result"
    }
   ],
   "source": [
    "m.GetAtomWithIdx(0).GetExplicitValence()"
   ]
  },
  {
   "cell_type": "code",
   "execution_count": 36,
   "id": "1800c3dc-f914-4c9f-9e04-9f03685440da",
   "metadata": {},
   "outputs": [
    {
     "data": {
      "text/plain": [
       "2"
      ]
     },
     "execution_count": 36,
     "metadata": {},
     "output_type": "execute_result"
    }
   ],
   "source": [
    "m.GetAtomWithIdx(2).GetBeginAtomIdx()"
   ]
  },
  {
   "cell_type": "code",
   "execution_count": 37,
   "id": "44c6167e-3f6f-458c-93eb-e859c9083eac",
   "metadata": {},
   "outputs": [
    {
     "data": {
      "text/plain": [
       "1"
      ]
     },
     "execution_count": 37,
     "metadata": {},
     "output_type": "execute_result"
    }
   ],
   "source": [
    "#smallestsetofsmallestrings\n",
    "ssr = Chem.GetSymmSSSR(m)\n",
    "len(ssr)"
   ]
  },
  {
   "cell_type": "code",
   "execution_count": 41,
   "id": "08fc9887-2a1a-4f76-bbeb-13bfedef7fe2",
   "metadata": {},
   "outputs": [
    {
     "data": {
      "text/plain": [
       "15"
      ]
     },
     "execution_count": 41,
     "metadata": {},
     "output_type": "execute_result"
    }
   ],
   "source": [
    "ssr = Chem.GetSSSR(m)\n",
    "len(f'Chem.GetSSSR(m)')"
   ]
  },
  {
   "cell_type": "code",
   "execution_count": 3,
   "id": "289232bd-e79b-4af1-a85e-8b4c1c972bc2",
   "metadata": {},
   "outputs": [
    {
     "ename": "NameError",
     "evalue": "name 'm' is not defined",
     "output_type": "error",
     "traceback": [
      "\u001b[1;31m---------------------------------------------------------------------------\u001b[0m",
      "\u001b[1;31mNameError\u001b[0m                                 Traceback (most recent call last)",
      "Cell \u001b[1;32mIn[3], line 3\u001b[0m\n\u001b[0;32m      1\u001b[0m \u001b[38;5;66;03m#generating depictions\u001b[39;00m\n\u001b[0;32m      2\u001b[0m n\u001b[38;5;241m=\u001b[39m Chem\u001b[38;5;241m.\u001b[39mMolFromSmiles(\u001b[38;5;124m'\u001b[39m\u001b[38;5;124mc1nccc2n1cc2\u001b[39m\u001b[38;5;124m'\u001b[39m)\n\u001b[1;32m----> 3\u001b[0m AllChem\u001b[38;5;241m.\u001b[39mCompute2DCoords(\u001b[43mm\u001b[49m)\n",
      "\u001b[1;31mNameError\u001b[0m: name 'm' is not defined"
     ]
    }
   ],
   "source": [
    "#generating depictions\n",
    "n= Chem.MolFromSmiles('c1nccc2n1cc2')\n",
    "AllChem.Compute2DCoords(m)\n"
   ]
  },
  {
   "cell_type": "code",
   "execution_count": 4,
   "id": "48f1eb54-0047-402f-980c-9b5a211f123d",
   "metadata": {},
   "outputs": [
    {
     "data": {
      "text/plain": [
       "0"
      ]
     },
     "execution_count": 4,
     "metadata": {},
     "output_type": "execute_result"
    }
   ],
   "source": [
    "template = Chem.MolFromSmiles('c1nccc2n1ccc2')\n",
    "AllChem.Compute2DCoords(template)\n",
    "\n"
   ]
  },
  {
   "cell_type": "code",
   "execution_count": 17,
   "id": "009e98d2-78f2-4c49-bcb7-f19aec42b229",
   "metadata": {},
   "outputs": [],
   "source": [
    "ms = [Chem.MolFromSmiles(smi) for smi in ('OCCc1ccn2cnccc12','C1CC1Oc1cc2ccncn2c1','CNC(=O)c1nccc2cccn12')]\n",
    "for m in ms:\n",
    "    AllChem.GenerateDepictionMatching2DStructure(m,template)\n",
    "\n"
   ]
  },
  {
   "cell_type": "code",
   "execution_count": 15,
   "id": "22358ee4-6003-4c28-a798-6e97de9a3993",
   "metadata": {},
   "outputs": [
    {
     "ename": "AttributeError",
     "evalue": "'list' object has no attribute 'GetAtomWithIdx'",
     "output_type": "error",
     "traceback": [
      "\u001b[1;31m---------------------------------------------------------------------------\u001b[0m",
      "\u001b[1;31mAttributeError\u001b[0m                            Traceback (most recent call last)",
      "Cell \u001b[1;32mIn[15], line 1\u001b[0m\n\u001b[1;32m----> 1\u001b[0m \u001b[43mDraw\u001b[49m\u001b[38;5;241;43m.\u001b[39;49m\u001b[43mMolToImage\u001b[49m\u001b[43m(\u001b[49m\u001b[43mms\u001b[49m\u001b[43m)\u001b[49m\n",
      "File \u001b[1;32m~\\.conda\\envs\\drughive\\lib\\site-packages\\rdkit\\Chem\\Draw\\__init__.py:225\u001b[0m, in \u001b[0;36mMolToImage\u001b[1;34m(mol, size, kekulize, wedgeBonds, fitImage, options, canvas, **kwargs)\u001b[0m\n\u001b[0;32m    221\u001b[0m   warnings\u001b[38;5;241m.\u001b[39mwarn(\n\u001b[0;32m    222\u001b[0m     \u001b[38;5;124m\"\u001b[39m\u001b[38;5;124mlegacy DrawingOptions not translated for new drawing code, please update manually\u001b[39m\u001b[38;5;124m\"\u001b[39m,\n\u001b[0;32m    223\u001b[0m     \u001b[38;5;167;01mDeprecationWarning\u001b[39;00m)\n\u001b[0;32m    224\u001b[0m   options \u001b[38;5;241m=\u001b[39m \u001b[38;5;28;01mNone\u001b[39;00m\n\u001b[1;32m--> 225\u001b[0m \u001b[38;5;28;01mreturn\u001b[39;00m \u001b[43m_moltoimg\u001b[49m\u001b[43m(\u001b[49m\u001b[43mmol\u001b[49m\u001b[43m,\u001b[49m\u001b[43m \u001b[49m\u001b[43msize\u001b[49m\u001b[43m,\u001b[49m\u001b[43m \u001b[49m\u001b[43mkwargs\u001b[49m\u001b[38;5;241;43m.\u001b[39;49m\u001b[43mget\u001b[49m\u001b[43m(\u001b[49m\u001b[38;5;124;43m'\u001b[39;49m\u001b[38;5;124;43mhighlightAtoms\u001b[39;49m\u001b[38;5;124;43m'\u001b[39;49m\u001b[43m,\u001b[49m\u001b[43m \u001b[49m\u001b[43m[\u001b[49m\u001b[43m]\u001b[49m\u001b[43m)\u001b[49m\u001b[43m,\u001b[49m\u001b[43m \u001b[49m\u001b[43mkwargs\u001b[49m\u001b[38;5;241;43m.\u001b[39;49m\u001b[43mget\u001b[49m\u001b[43m(\u001b[49m\u001b[38;5;124;43m'\u001b[39;49m\u001b[38;5;124;43mlegend\u001b[39;49m\u001b[38;5;124;43m'\u001b[39;49m\u001b[43m,\u001b[49m\u001b[43m \u001b[49m\u001b[38;5;124;43m'\u001b[39;49m\u001b[38;5;124;43m'\u001b[39;49m\u001b[43m)\u001b[49m\u001b[43m,\u001b[49m\n\u001b[0;32m    226\u001b[0m \u001b[43m                 \u001b[49m\u001b[43mhighlightBonds\u001b[49m\u001b[38;5;241;43m=\u001b[39;49m\u001b[43mkwargs\u001b[49m\u001b[38;5;241;43m.\u001b[39;49m\u001b[43mget\u001b[49m\u001b[43m(\u001b[49m\u001b[38;5;124;43m'\u001b[39;49m\u001b[38;5;124;43mhighlightBonds\u001b[39;49m\u001b[38;5;124;43m'\u001b[39;49m\u001b[43m,\u001b[49m\n\u001b[0;32m    227\u001b[0m \u001b[43m                                           \u001b[49m\u001b[43m[\u001b[49m\u001b[43m]\u001b[49m\u001b[43m)\u001b[49m\u001b[43m,\u001b[49m\u001b[43m \u001b[49m\u001b[43mdrawOptions\u001b[49m\u001b[38;5;241;43m=\u001b[39;49m\u001b[43moptions\u001b[49m\u001b[43m,\u001b[49m\u001b[43m \u001b[49m\u001b[43mkekulize\u001b[49m\u001b[38;5;241;43m=\u001b[39;49m\u001b[43mkekulize\u001b[49m\u001b[43m,\u001b[49m\n\u001b[0;32m    228\u001b[0m \u001b[43m                 \u001b[49m\u001b[43mwedgeBonds\u001b[49m\u001b[38;5;241;43m=\u001b[39;49m\u001b[43mwedgeBonds\u001b[49m\u001b[43m,\u001b[49m\u001b[43m \u001b[49m\u001b[43mhighlightColor\u001b[49m\u001b[38;5;241;43m=\u001b[39;49m\u001b[43mkwargs\u001b[49m\u001b[38;5;241;43m.\u001b[39;49m\u001b[43mget\u001b[49m\u001b[43m(\u001b[49m\u001b[38;5;124;43m'\u001b[39;49m\u001b[38;5;124;43mhighlightColor\u001b[39;49m\u001b[38;5;124;43m'\u001b[39;49m\u001b[43m,\u001b[49m\u001b[43m \u001b[49m\u001b[38;5;28;43;01mNone\u001b[39;49;00m\u001b[43m)\u001b[49m\u001b[43m)\u001b[49m\n",
      "File \u001b[1;32m~\\.conda\\envs\\drughive\\lib\\site-packages\\rdkit\\Chem\\Draw\\__init__.py:450\u001b[0m, in \u001b[0;36m_moltoimg\u001b[1;34m(mol, sz, highlights, legend, returnPNG, drawOptions, **kwargs)\u001b[0m\n\u001b[0;32m    448\u001b[0m \u001b[38;5;28;01mtry\u001b[39;00m:\n\u001b[0;32m    449\u001b[0m   blocker \u001b[38;5;241m=\u001b[39m rdBase\u001b[38;5;241m.\u001b[39mBlockLogs()\n\u001b[1;32m--> 450\u001b[0m   \u001b[43mmol\u001b[49m\u001b[38;5;241;43m.\u001b[39;49m\u001b[43mGetAtomWithIdx\u001b[49m(\u001b[38;5;241m0\u001b[39m)\u001b[38;5;241m.\u001b[39mGetExplicitValence()\n\u001b[0;32m    451\u001b[0m \u001b[38;5;28;01mexcept\u001b[39;00m \u001b[38;5;167;01mRuntimeError\u001b[39;00m:\n\u001b[0;32m    452\u001b[0m   mol\u001b[38;5;241m.\u001b[39mUpdatePropertyCache(\u001b[38;5;28;01mFalse\u001b[39;00m)\n",
      "\u001b[1;31mAttributeError\u001b[0m: 'list' object has no attribute 'GetAtomWithIdx'"
     ]
    }
   ],
   "source": [
    "Draw.MolToImage()"
   ]
  },
  {
   "cell_type": "code",
   "execution_count": 18,
   "id": "3cdff785-751d-479d-85a7-9ea24f1d1722",
   "metadata": {},
   "outputs": [],
   "source": [
    "m2 = Chem.AddHs(m)"
   ]
  },
  {
   "cell_type": "code",
   "execution_count": 19,
   "id": "48bb0cba-4577-4ae9-8b1f-82cae9d160df",
   "metadata": {},
   "outputs": [
    {
     "data": {
      "text/plain": [
       "0"
      ]
     },
     "execution_count": 19,
     "metadata": {},
     "output_type": "execute_result"
    }
   ],
   "source": [
    "AllChem.EmbedMolecule(m2)"
   ]
  },
  {
   "cell_type": "code",
   "execution_count": 20,
   "id": "97c1942c-1082-4dad-8fbf-1abb439ebb0c",
   "metadata": {},
   "outputs": [
    {
     "data": {
      "text/plain": [
       "0"
      ]
     },
     "execution_count": 20,
     "metadata": {},
     "output_type": "execute_result"
    }
   ],
   "source": [
    "AllChem.MMFFOptimizeMolecule(m2)\n"
   ]
  },
  {
   "cell_type": "code",
   "execution_count": 21,
   "id": "2565bd7c-ff98-4c1b-b160-d56b6aed0743",
   "metadata": {},
   "outputs": [
    {
     "name": "stdout",
     "output_type": "stream",
     "text": [
      "10\n"
     ]
    }
   ],
   "source": [
    "m = Chem.MolFromSmiles('C1CCC1OC')\n",
    "m2 = Chem.AddHs(m)\n",
    "\n",
    "cids = AllChem.EmbedMultipleConfs(m2, numConfs = 10)\n",
    "print(len(cids))"
   ]
  },
  {
   "cell_type": "code",
   "execution_count": 22,
   "id": "a740814c-a553-4b94-af10-4a0f73d090e3",
   "metadata": {},
   "outputs": [
    {
     "name": "stdout",
     "output_type": "stream",
     "text": [
      "9\n"
     ]
    }
   ],
   "source": [
    "rmslist=[]\n",
    "AllChem.AlignMolConformers(m2,RMSlist=rmslist)\n",
    "print(len(rmslist))"
   ]
  },
  {
   "cell_type": "code",
   "execution_count": 24,
   "id": "7a9f67b3-11f9-406c-b89b-a5fe186c0054",
   "metadata": {},
   "outputs": [],
   "source": [
    "rms = AllChem.GetConformerRMS(m2,1,9,prealigned=True)"
   ]
  },
  {
   "cell_type": "code",
   "execution_count": 25,
   "id": "36372f5d-1e37-4270-a206-45445b0b3fc9",
   "metadata": {},
   "outputs": [],
   "source": [
    "res = AllChem.MMFFOptimizeMoleculeConfs(m2)"
   ]
  },
  {
   "cell_type": "code",
   "execution_count": 36,
   "id": "ab6f0555-65fa-4cfe-a6cf-a355898b6f05",
   "metadata": {},
   "outputs": [],
   "source": [
    "from rdkit.Chem.Draw import rdMolDraw2D\n",
    "mol = Chem.MolFromSmiles(r'Cl[C@H](F)NC\\C=C\\C')\n",
    "d = rdMolDraw2D.MolDraw2DCairo(250,250)\n",
    "mol.GetAtomWithIdx(2).SetProp('atomNote','foo')\n",
    "mol.GetBondWithIdx(0).SetProp('bondNote','bar')\n",
    "d.drawOptions().addStereoAnnotation = True\n",
    "d.drawOptions().addAtomIndicces = True\n",
    "d.DrawMolecule(mol)\n",
    "d.FinishDrawing()\n",
    "d.WriteDrawingText('C:/images/atom_annotation_1.png')"
   ]
  },
  {
   "cell_type": "code",
   "execution_count": 44,
   "id": "0fa5f930-afac-480b-a87a-2fcaa44d571a",
   "metadata": {},
   "outputs": [],
   "source": [
    "from rdkit.Chem.Draw import rdMolDraw2D\n",
    "smi = 'c1nc(*)ccc1* |$;;;R1;;;;R2$|'\n",
    "mol = Chem.MolFromSmiles(smi)\n",
    "mol.GetAtomWithIdx(3).GetProp('atomLabel')\n",
    "d = rdMolDraw2D.MolDraw2DCairo(250,250)\n",
    "\n",
    "Chem.Draw.PrepareAndDrawMolecule(d,mol)\n",
    "#d.WriteDrawingText(r'C:\\Users\\capta\\DrugHIVE\\output\\generate_example\\RdKit')"
   ]
  },
  {
   "cell_type": "code",
   "execution_count": 49,
   "id": "983bea17-471b-4000-a286-92885aacd4b3",
   "metadata": {},
   "outputs": [
    {
     "data": {
      "text/plain": [
       "True"
      ]
     },
     "execution_count": 49,
     "metadata": {},
     "output_type": "execute_result"
    }
   ],
   "source": [
    "m = Chem.MolFromSmiles('c1ccccc1O')\n",
    "patt = Chem.MolFromSmarts('ccO')\n",
    "m.HasSubstructMatch(patt)\n",
    "\n"
   ]
  },
  {
   "cell_type": "code",
   "execution_count": 50,
   "id": "a1e96503-317a-46ac-a671-68ecfa778e78",
   "metadata": {},
   "outputs": [
    {
     "data": {
      "text/plain": [
       "(0, 5, 6)"
      ]
     },
     "execution_count": 50,
     "metadata": {},
     "output_type": "execute_result"
    }
   ],
   "source": [
    "m.GetSubstructMatch(patt)"
   ]
  },
  {
   "cell_type": "code",
   "execution_count": 52,
   "id": "0fa2ff34-2af3-4dba-97e7-d8cea3f5cc9e",
   "metadata": {},
   "outputs": [
    {
     "data": {
      "text/plain": [
       "9"
      ]
     },
     "execution_count": 52,
     "metadata": {},
     "output_type": "execute_result"
    }
   ],
   "source": [
    "patt = Chem.MolFromSmarts('c[NH1]')\n",
    "matches = []\n",
    "with Chem.SDMolSupplier(r'C:\\Users\\capta\\DrugHIVE\\output\\generate_example\\RdKit\\output.sdf') as suppl:\n",
    "    for mol in suppl:\n",
    "        if mol.HasSubstructMatch(patt):\n",
    "            matches.append(mol)\n",
    "\n",
    "len(matches)"
   ]
  },
  {
   "cell_type": "code",
   "execution_count": 53,
   "id": "9d1c8ade-8079-49ce-95b2-c012445130e6",
   "metadata": {},
   "outputs": [
    {
     "data": {
      "text/plain": [
       "9"
      ]
     },
     "execution_count": 53,
     "metadata": {},
     "output_type": "execute_result"
    }
   ],
   "source": [
    "with Chem.SDMolSupplier(r'C:\\Users\\capta\\DrugHIVE\\output\\generate_example\\RdKit\\output.sdf') as suppl:\n",
    "    matches = [x for x in suppl if x.HasSubstructMatch(patt)]\n",
    "\n",
    "len(matches)"
   ]
  },
  {
   "cell_type": "code",
   "execution_count": 61,
   "id": "e36b805b-be7e-414d-b4e8-6ab41c9da281",
   "metadata": {},
   "outputs": [
    {
     "data": {
      "image/jpeg": "[encoded data removed]",
      "image/png": "[encoded data removed]",
      "text/plain": [
       "<PIL.PngImagePlugin.PngImageFile image mode=RGB size=300x300>"
      ]
     },
     "execution_count": 61,
     "metadata": {},
     "output_type": "execute_result"
    }
   ],
   "source": [
    "m = Chem.MolFromSmarts('[cH0:1][c:2]([cH0])!@[CX3!r:3]=[NX2!r:4]')\n",
    "Draw.MolToImage(m)"
   ]
  },
  {
   "cell_type": "code",
   "execution_count": 62,
   "id": "dec246ac-2297-4215-b0c2-cc676c06427e",
   "metadata": {},
   "outputs": [
    {
     "data": {
      "text/plain": [
       "False"
      ]
     },
     "execution_count": 62,
     "metadata": {},
     "output_type": "execute_result"
    }
   ],
   "source": [
    "m.HasSubstructMatch(Chem.MolFromSmiles('C[C@@H](F)Cl'))"
   ]
  },
  {
   "cell_type": "code",
   "execution_count": 64,
   "id": "720dfe65-8453-430a-97c6-e7046b0bc0c6",
   "metadata": {},
   "outputs": [
    {
     "data": {
      "text/plain": [
       "{0: 0, 1: 1, 2: 3, 3: 4}"
      ]
     },
     "execution_count": 64,
     "metadata": {},
     "output_type": "execute_result"
    }
   ],
   "source": [
    "qmol = Chem.MolFromSmarts('[cH0:1][c:2]([cH0])!@[CX3!r:3]=[NX2!r:4]')\n",
    "ind_map = {}\n",
    "for atom in qmol.GetAtoms():\n",
    "    map_num = atom.GetAtomMapNum()\n",
    "    if map_num:\n",
    "        ind_map[map_num-1]=atom.GetIdx()\n",
    "\n",
    "ind_map\n"
   ]
  },
  {
   "cell_type": "code",
   "execution_count": 65,
   "id": "03ea3968-4bc3-44f4-92f9-03eacffd4d6f",
   "metadata": {},
   "outputs": [
    {
     "data": {
      "text/plain": [
       "[0, 1, 3, 4]"
      ]
     },
     "execution_count": 65,
     "metadata": {},
     "output_type": "execute_result"
    }
   ],
   "source": [
    "map_list = [ind_map[x] for x in sorted(ind_map)]\n",
    "map_list"
   ]
  },
  {
   "cell_type": "code",
   "execution_count": 66,
   "id": "9c7dd0d1-4e31-40bc-a299-e89f76454d09",
   "metadata": {},
   "outputs": [
    {
     "name": "stdout",
     "output_type": "stream",
     "text": [
      "[1, 7, 8, 10]\n"
     ]
    }
   ],
   "source": [
    "mol = Chem.MolFromSmiles('Cc1cccc(C)c1C(C)=NC')\n",
    "for match in mol.GetSubstructMatches(qmol):\n",
    "    mas=[match[x] for x in map_list]\n",
    "    print(mas)\n",
    "\n"
   ]
  },
  {
   "cell_type": "code",
   "execution_count": 71,
   "id": "65608935-e887-46aa-b5b8-626c20acb37c",
   "metadata": {},
   "outputs": [],
   "source": [
    "class SidechainChecker(object):\n",
    "    matchers = {\n",
    "        'alkyl': lambda at: not at.GetIsAromatic(),\n",
    "        'all_carbon': lambda at: at.GetAtomicNum() == 6\n",
    "    }\n",
    "    def __init__(self,query,pName='queryType'):\n",
    "        self._atsToExamine = [(x.GetIdx(),x.GetProp(pName)) for x in query.GetAtoms()\n",
    "                             if x.HasProp(pName)]\n",
    "        self._pName = pName \n",
    "\n",
    "    def __call__(self, mol,vect):\n",
    "        seen = [0]*mol.GetNumAtoms()\n",
    "        for idx in vect:\n",
    "            seen[idx]=1\n",
    "        for idx, qtyp in self._atsToExamine:\n",
    "            midx = vect[idx]\n",
    "            stack = [midx]\n",
    "            atom = mol.GetAtomWithIdx(midx)\n",
    "            stack = [atom]\n",
    "            while stack:\n",
    "                atom = stack.pop(0)\n",
    "                if not self.matchers[qtyp](atom):\n",
    "                    return False\n",
    "\n",
    "                seen[atom.GetIdx()] = 1\n",
    "                for nbr in atom.GetNeighbors():\n",
    "                    if not seen[nbr.GetIdx()]:\n",
    "                        stack.append(nbr)\n",
    "\n",
    "        return True\n",
    "                        "
   ]
  },
  {
   "cell_type": "code",
   "execution_count": 72,
   "id": "927fe865-9476-4d0e-acf9-e61bad5d1a26",
   "metadata": {},
   "outputs": [
    {
     "data": {
      "text/plain": [
       "((5, 6, 11, 17, 18), (5, 17, 11, 6, 7), (6, 5, 17, 11, 12), (6, 11, 17, 5, 4))"
      ]
     },
     "execution_count": 72,
     "metadata": {},
     "output_type": "execute_result"
    }
   ],
   "source": [
    "m = Chem.MolFromSmiles('C2NCC2CC1C(CCCC)C(OCCCC)C1c2ccccc2')\n",
    "p = Chem.MolFromSmarts('C1CCC1*')\n",
    "p.GetAtomWithIdx(4).SetProp('queryType','all_carbon')\n",
    "m.GetSubstructMatches(p)"
   ]
  },
  {
   "cell_type": "code",
   "execution_count": 73,
   "id": "a5290fa7-f280-49f1-9cd9-cbe302d3f21e",
   "metadata": {},
   "outputs": [
    {
     "data": {
      "text/plain": [
       "((5, 6, 11, 17, 18), (5, 17, 11, 6, 7))"
      ]
     },
     "execution_count": 73,
     "metadata": {},
     "output_type": "execute_result"
    }
   ],
   "source": [
    "params = Chem.SubstructMatchParameters()\n",
    "checker = SidechainChecker(p)\n",
    "params.setExtraFinalCheck(checker)\n",
    "m.GetSubstructMatches(p, params)"
   ]
  },
  {
   "cell_type": "code",
   "execution_count": 4,
   "id": "b132f674-65a2-423e-9d5c-0a4127c525c7",
   "metadata": {},
   "outputs": [
    {
     "data": {
      "text/plain": [
       "0.6"
      ]
     },
     "execution_count": 4,
     "metadata": {},
     "output_type": "execute_result"
    }
   ],
   "source": [
    "from rdkit import DataStructs\n",
    "from rdkit.Chem import rdFingerprintGenerator\n",
    "ms = [Chem.MolFromSmiles('CCOC'), Chem.MolFromSmiles('CCO'),\n",
    "Chem.MolFromSmiles('COC')]\n",
    "fpgen = Chem.rdFingerprintGenerator.GetRDKitFPGenerator()\n",
    "fps = [fpgen.GetFingerprint(x) for x in ms]\n",
    "DataStructs.TanimotoSimilarity(fps[0],fps[1])\n",
    "#DataStructs.TanimotoSimilarity(fps[0],fps[2])\n",
    "#DataStructs.TanimotoSimilarity(fps[1],fps[2])"
   ]
  },
  {
   "cell_type": "code",
   "execution_count": 5,
   "id": "31037bd3-ba58-4b7c-8a6f-8403b562ae21",
   "metadata": {},
   "outputs": [
    {
     "data": {
      "text/plain": [
       "0.75"
      ]
     },
     "execution_count": 5,
     "metadata": {},
     "output_type": "execute_result"
    }
   ],
   "source": [
    "DataStructs.DiceSimilarity(fps[0],fps[1])"
   ]
  },
  {
   "cell_type": "code",
   "execution_count": 19,
   "id": "1da3c56f-6c62-47fd-b1bd-541b8f0ad6bb",
   "metadata": {},
   "outputs": [
    {
     "ename": "AttributeError",
     "evalue": "'AdditionalOutput' object has no attribute 'CollectBitPaths'",
     "output_type": "error",
     "traceback": [
      "\u001b[1;31m---------------------------------------------------------------------------\u001b[0m",
      "\u001b[1;31mAttributeError\u001b[0m                            Traceback (most recent call last)",
      "Cell \u001b[1;32mIn[19], line 5\u001b[0m\n\u001b[0;32m      3\u001b[0m m \u001b[38;5;241m=\u001b[39m Chem\u001b[38;5;241m.\u001b[39mMolFromSmiles(\u001b[38;5;124m'\u001b[39m\u001b[38;5;124mCCO\u001b[39m\u001b[38;5;124m'\u001b[39m)\n\u001b[0;32m      4\u001b[0m fpgen \u001b[38;5;241m=\u001b[39m Chem\u001b[38;5;241m.\u001b[39mrdFingerprintGenerator\u001b[38;5;241m.\u001b[39mGetRDKitFPGenerator()\n\u001b[1;32m----> 5\u001b[0m ao \u001b[38;5;241m=\u001b[39m \u001b[43mChem\u001b[49m\u001b[38;5;241;43m.\u001b[39;49m\u001b[43mrdFingerprintGenerator\u001b[49m\u001b[38;5;241;43m.\u001b[39;49m\u001b[43mAdditionalOutput\u001b[49m\u001b[43m(\u001b[49m\u001b[43m)\u001b[49m\u001b[38;5;241;43m.\u001b[39;49m\u001b[43mCollectBitPaths\u001b[49m()\n\u001b[0;32m      6\u001b[0m ao\u001b[38;5;241m.\u001b[39mCollectBitPaths()\n\u001b[0;32m      7\u001b[0m fp \u001b[38;5;241m=\u001b[39m fpgen\u001b[38;5;241m.\u001b[39mGetSparseCountFingerprint(m,additionalOutput\u001b[38;5;241m=\u001b[39mao)\n",
      "\u001b[1;31mAttributeError\u001b[0m: 'AdditionalOutput' object has no attribute 'CollectBitPaths'"
     ]
    }
   ],
   "source": [
    "from rdkit.Chem import AllChem\n",
    "\n",
    "m = Chem.MolFromSmiles('CCO')\n",
    "fpgen = Chem.rdFingerprintGenerator.GetRDKitFPGenerator()\n",
    "ao = Chem.rdFingerprintGenerator.AdditionalOutput()\n",
    "ao.CollectBitPaths()\n",
    "fp = fpgen.GetSparseCountFingerprint(m,additionalOutput=ao)\n",
    "len(fp.GetNonzeroElements())\n",
    "6\n",
    "paths = ao.GetBitPaths()\n",
    "len(paths)\n",
    "\n",
    "paths = ao.GetBitPaths()\n",
    "len(paths)"
   ]
  },
  {
   "cell_type": "code",
   "execution_count": 22,
   "id": "edb304a0-2959-4d19-a5c8-f4e0593392a1",
   "metadata": {},
   "outputs": [
    {
     "ename": "AttributeError",
     "evalue": "module 'rdkit.Chem.AllChem' has no attribute 'GetMorganGenerator'",
     "output_type": "error",
     "traceback": [
      "\u001b[1;31m---------------------------------------------------------------------------\u001b[0m",
      "\u001b[1;31mAttributeError\u001b[0m                            Traceback (most recent call last)",
      "Cell \u001b[1;32mIn[22], line 3\u001b[0m\n\u001b[0;32m      1\u001b[0m \u001b[38;5;28;01mfrom\u001b[39;00m \u001b[38;5;21;01mrdkit\u001b[39;00m\u001b[38;5;21;01m.\u001b[39;00m\u001b[38;5;21;01mChem\u001b[39;00m \u001b[38;5;28;01mimport\u001b[39;00m Draw\n\u001b[0;32m      2\u001b[0m mol \u001b[38;5;241m=\u001b[39m Chem\u001b[38;5;241m.\u001b[39mMolFromSmiles(\u001b[38;5;124m'\u001b[39m\u001b[38;5;124mc1ccccc1CC1CC1\u001b[39m\u001b[38;5;124m'\u001b[39m)\n\u001b[1;32m----> 3\u001b[0m fpgen \u001b[38;5;241m=\u001b[39m \u001b[43mAllChem\u001b[49m\u001b[38;5;241;43m.\u001b[39;49m\u001b[43mGetMorganGenerator\u001b[49m(radius \u001b[38;5;241m=\u001b[39m\u001b[38;5;241m2\u001b[39m)\n\u001b[0;32m      4\u001b[0m ao \u001b[38;5;241m=\u001b[39m Chem\u001b[38;5;241m.\u001b[39mrdFingerprintGenerator\u001b[38;5;241m.\u001b[39mAdditionalOutput()\n\u001b[0;32m      5\u001b[0m ao\u001b[38;5;241m.\u001b[39mCollectbitInfoMap()\n",
      "\u001b[1;31mAttributeError\u001b[0m: module 'rdkit.Chem.AllChem' has no attribute 'GetMorganGenerator'"
     ]
    }
   ],
   "source": [
    "from rdkit.Chem import Draw\n",
    "mol = Chem.MolFromSmiles('c1ccccc1CC1CC1')\n",
    "fpgen = AllChem.GetMorganGenerator(radius =2)\n",
    "ao = Chem.rdFingerprintGenerator.AdditionalOutput()\n",
    "ao.CollectbitInfoMap()"
   ]
  },
  {
   "cell_type": "code",
   "execution_count": 24,
   "id": "c4a51c24-a2e7-4f69-8457-3b4dc71b4167",
   "metadata": {},
   "outputs": [
    {
     "data": {
      "text/plain": [
       "'2021.09.5'"
      ]
     },
     "execution_count": 24,
     "metadata": {},
     "output_type": "execute_result"
    }
   ],
   "source": [
    "from rdkit import rdBase\n",
    "rdBase.rdkitVersion"
   ]
  },
  {
   "cell_type": "code",
   "execution_count": null,
   "id": "ae022b89-84c6-4d31-a041-fb581300bccc",
   "metadata": {},
   "outputs": [],
   "source": []
  }
 ],
 "metadata": {
  "kernelspec": {
   "display_name": "Python 3 (ipykernel)",
   "language": "python",
   "name": "python3"
  },
  "language_info": {
   "codemirror_mode": {
    "name": "ipython",
    "version": 3
   },
   "file_extension": ".py",
   "mimetype": "text/x-python",
   "name": "python",
   "nbconvert_exporter": "python",
   "pygments_lexer": "ipython3",
   "version": "3.9.16"
  }
 },
 "nbformat": 4,
 "nbformat_minor": 5
}
